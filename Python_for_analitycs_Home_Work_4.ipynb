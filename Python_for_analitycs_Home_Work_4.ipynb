{
 "cells": [
  {
   "cell_type": "markdown",
   "id": "f9c6c077",
   "metadata": {},
   "source": [
    "## Домашнее задание 1\n",
    "### 1.1. Скачать данные по ссылке https://www.kaggle.com/datasets/ionaskel/laptop-prices"
   ]
  },
  {
   "cell_type": "code",
   "execution_count": 1,
   "id": "72e67e17",
   "metadata": {
    "scrolled": true
   },
   "outputs": [
    {
     "data": {
      "text/html": [
       "<div>\n",
       "<style scoped>\n",
       "    .dataframe tbody tr th:only-of-type {\n",
       "        vertical-align: middle;\n",
       "    }\n",
       "\n",
       "    .dataframe tbody tr th {\n",
       "        vertical-align: top;\n",
       "    }\n",
       "\n",
       "    .dataframe thead th {\n",
       "        text-align: right;\n",
       "    }\n",
       "</style>\n",
       "<table border=\"1\" class=\"dataframe\">\n",
       "  <thead>\n",
       "    <tr style=\"text-align: right;\">\n",
       "      <th></th>\n",
       "      <th>id</th>\n",
       "      <th>date</th>\n",
       "      <th>price</th>\n",
       "      <th>bedrooms</th>\n",
       "      <th>bathrooms</th>\n",
       "      <th>sqft_living</th>\n",
       "      <th>sqft_lot</th>\n",
       "      <th>floors</th>\n",
       "      <th>waterfront</th>\n",
       "      <th>view</th>\n",
       "      <th>...</th>\n",
       "      <th>grade</th>\n",
       "      <th>sqft_above</th>\n",
       "      <th>sqft_basement</th>\n",
       "      <th>yr_built</th>\n",
       "      <th>yr_renovated</th>\n",
       "      <th>zipcode</th>\n",
       "      <th>lat</th>\n",
       "      <th>long</th>\n",
       "      <th>sqft_living15</th>\n",
       "      <th>sqft_lot15</th>\n",
       "    </tr>\n",
       "  </thead>\n",
       "  <tbody>\n",
       "    <tr>\n",
       "      <th>0</th>\n",
       "      <td>7129300520</td>\n",
       "      <td>20141013T000000</td>\n",
       "      <td>221900.0</td>\n",
       "      <td>3</td>\n",
       "      <td>1.00</td>\n",
       "      <td>1180</td>\n",
       "      <td>5650</td>\n",
       "      <td>1.0</td>\n",
       "      <td>0</td>\n",
       "      <td>0</td>\n",
       "      <td>...</td>\n",
       "      <td>7</td>\n",
       "      <td>1180</td>\n",
       "      <td>0</td>\n",
       "      <td>1955</td>\n",
       "      <td>0</td>\n",
       "      <td>98178</td>\n",
       "      <td>47.5112</td>\n",
       "      <td>-122.257</td>\n",
       "      <td>1340</td>\n",
       "      <td>5650</td>\n",
       "    </tr>\n",
       "    <tr>\n",
       "      <th>1</th>\n",
       "      <td>6414100192</td>\n",
       "      <td>20141209T000000</td>\n",
       "      <td>538000.0</td>\n",
       "      <td>3</td>\n",
       "      <td>2.25</td>\n",
       "      <td>2570</td>\n",
       "      <td>7242</td>\n",
       "      <td>2.0</td>\n",
       "      <td>0</td>\n",
       "      <td>0</td>\n",
       "      <td>...</td>\n",
       "      <td>7</td>\n",
       "      <td>2170</td>\n",
       "      <td>400</td>\n",
       "      <td>1951</td>\n",
       "      <td>1991</td>\n",
       "      <td>98125</td>\n",
       "      <td>47.7210</td>\n",
       "      <td>-122.319</td>\n",
       "      <td>1690</td>\n",
       "      <td>7639</td>\n",
       "    </tr>\n",
       "    <tr>\n",
       "      <th>2</th>\n",
       "      <td>5631500400</td>\n",
       "      <td>20150225T000000</td>\n",
       "      <td>180000.0</td>\n",
       "      <td>2</td>\n",
       "      <td>1.00</td>\n",
       "      <td>770</td>\n",
       "      <td>10000</td>\n",
       "      <td>1.0</td>\n",
       "      <td>0</td>\n",
       "      <td>0</td>\n",
       "      <td>...</td>\n",
       "      <td>6</td>\n",
       "      <td>770</td>\n",
       "      <td>0</td>\n",
       "      <td>1933</td>\n",
       "      <td>0</td>\n",
       "      <td>98028</td>\n",
       "      <td>47.7379</td>\n",
       "      <td>-122.233</td>\n",
       "      <td>2720</td>\n",
       "      <td>8062</td>\n",
       "    </tr>\n",
       "    <tr>\n",
       "      <th>3</th>\n",
       "      <td>2487200875</td>\n",
       "      <td>20141209T000000</td>\n",
       "      <td>604000.0</td>\n",
       "      <td>4</td>\n",
       "      <td>3.00</td>\n",
       "      <td>1960</td>\n",
       "      <td>5000</td>\n",
       "      <td>1.0</td>\n",
       "      <td>0</td>\n",
       "      <td>0</td>\n",
       "      <td>...</td>\n",
       "      <td>7</td>\n",
       "      <td>1050</td>\n",
       "      <td>910</td>\n",
       "      <td>1965</td>\n",
       "      <td>0</td>\n",
       "      <td>98136</td>\n",
       "      <td>47.5208</td>\n",
       "      <td>-122.393</td>\n",
       "      <td>1360</td>\n",
       "      <td>5000</td>\n",
       "    </tr>\n",
       "    <tr>\n",
       "      <th>4</th>\n",
       "      <td>1954400510</td>\n",
       "      <td>20150218T000000</td>\n",
       "      <td>510000.0</td>\n",
       "      <td>3</td>\n",
       "      <td>2.00</td>\n",
       "      <td>1680</td>\n",
       "      <td>8080</td>\n",
       "      <td>1.0</td>\n",
       "      <td>0</td>\n",
       "      <td>0</td>\n",
       "      <td>...</td>\n",
       "      <td>8</td>\n",
       "      <td>1680</td>\n",
       "      <td>0</td>\n",
       "      <td>1987</td>\n",
       "      <td>0</td>\n",
       "      <td>98074</td>\n",
       "      <td>47.6168</td>\n",
       "      <td>-122.045</td>\n",
       "      <td>1800</td>\n",
       "      <td>7503</td>\n",
       "    </tr>\n",
       "  </tbody>\n",
       "</table>\n",
       "<p>5 rows × 21 columns</p>\n",
       "</div>"
      ],
      "text/plain": [
       "           id             date     price  bedrooms  bathrooms  sqft_living  \\\n",
       "0  7129300520  20141013T000000  221900.0         3       1.00         1180   \n",
       "1  6414100192  20141209T000000  538000.0         3       2.25         2570   \n",
       "2  5631500400  20150225T000000  180000.0         2       1.00          770   \n",
       "3  2487200875  20141209T000000  604000.0         4       3.00         1960   \n",
       "4  1954400510  20150218T000000  510000.0         3       2.00         1680   \n",
       "\n",
       "   sqft_lot  floors  waterfront  view  ...  grade  sqft_above  sqft_basement  \\\n",
       "0      5650     1.0           0     0  ...      7        1180              0   \n",
       "1      7242     2.0           0     0  ...      7        2170            400   \n",
       "2     10000     1.0           0     0  ...      6         770              0   \n",
       "3      5000     1.0           0     0  ...      7        1050            910   \n",
       "4      8080     1.0           0     0  ...      8        1680              0   \n",
       "\n",
       "   yr_built  yr_renovated  zipcode      lat     long  sqft_living15  \\\n",
       "0      1955             0    98178  47.5112 -122.257           1340   \n",
       "1      1951          1991    98125  47.7210 -122.319           1690   \n",
       "2      1933             0    98028  47.7379 -122.233           2720   \n",
       "3      1965             0    98136  47.5208 -122.393           1360   \n",
       "4      1987             0    98074  47.6168 -122.045           1800   \n",
       "\n",
       "   sqft_lot15  \n",
       "0        5650  \n",
       "1        7639  \n",
       "2        8062  \n",
       "3        5000  \n",
       "4        7503  \n",
       "\n",
       "[5 rows x 21 columns]"
      ]
     },
     "execution_count": 1,
     "metadata": {},
     "output_type": "execute_result"
    }
   ],
   "source": [
    "import pandas as pd\n",
    "\n",
    "df = pd.read_csv('https://gbcdn.mrgcdn.ru/uploads/asset/5367149/attachment/a8d3c3e5c671734c9cb5528120c2e715.csv', sep=',')\n",
    "df.head()"
   ]
  },
  {
   "cell_type": "markdown",
   "id": "bf052d6b",
   "metadata": {},
   "source": [
    "### 1.2 Изучите стоимости недвижимости\n",
    "* Постройте график\n",
    "* Назовите график\n",
    "* Сделайте именование оси x и оси y\n",
    "* Сделайте выводы"
   ]
  },
  {
   "cell_type": "code",
   "execution_count": 2,
   "id": "f54d2e8b",
   "metadata": {},
   "outputs": [
    {
     "data": {
      "image/png": "[encoded data removed]",
      "text/plain": [
       "<Figure size 432x288 with 1 Axes>"
      ]
     },
     "metadata": {
      "needs_background": "light"
     },
     "output_type": "display_data"
    }
   ],
   "source": [
    "import matplotlib.pyplot as plt\n",
    "\n",
    "plt.hist(df['price'], edgecolor='black')\n",
    "plt.title('Стоимость недвижимости')\n",
    "plt.xlabel('Цена')\n",
    "plt.ylabel('Количество');"
   ]
  },
  {
   "cell_type": "markdown",
   "id": "82d06c9c",
   "metadata": {},
   "source": [
    "Чем дешевле дома, тем их больше. И, наоборот."
   ]
  },
  {
   "cell_type": "markdown",
   "id": "c943ec60",
   "metadata": {},
   "source": [
    "### 1.3 Изучите распределение квадратуры жилой площади\n",
    "* Постройте график\n",
    "* Назовите график\n",
    "* Сделайте именование оси x и оси y\n",
    "* Сделайте выводы"
   ]
  },
  {
   "cell_type": "code",
   "execution_count": 3,
   "id": "dd5ca177",
   "metadata": {},
   "outputs": [
    {
     "data": {
      "image/png": "[encoded data removed]",
      "text/plain": [
       "<Figure size 432x288 with 1 Axes>"
      ]
     },
     "metadata": {
      "needs_background": "light"
     },
     "output_type": "display_data"
    }
   ],
   "source": [
    "plt.hist(df['sqft_living'], edgecolor='black')\n",
    "plt.title('Распределение квадратуры жилой площади')\n",
    "plt.xlabel('Квадратура')\n",
    "plt.ylabel('Количество');"
   ]
  },
  {
   "cell_type": "markdown",
   "id": "5a20003e",
   "metadata": {},
   "source": [
    "Видим, что более маленькая жилая площадь преобладает."
   ]
  },
  {
   "cell_type": "markdown",
   "id": "481f7548",
   "metadata": {},
   "source": [
    "### 1.4 Изучите распределение года постройки\n",
    "* Постройте график\n",
    "* Назовите график\n",
    "* Сделайте именование оси x и оси y\n",
    "* Сделайте выводы"
   ]
  },
  {
   "cell_type": "code",
   "execution_count": 4,
   "id": "4de87aef",
   "metadata": {},
   "outputs": [
    {
     "data": {
      "image/png": "[encoded data removed]",
      "text/plain": [
       "<Figure size 432x288 with 1 Axes>"
      ]
     },
     "metadata": {
      "needs_background": "light"
     },
     "output_type": "display_data"
    }
   ],
   "source": [
    "plt.hist(df['yr_built'], edgecolor='black')\n",
    "plt.title('Распределение года постройки')\n",
    "plt.xlabel('Год')\n",
    "plt.ylabel('Количество');"
   ]
  },
  {
   "cell_type": "markdown",
   "id": "2ac3194d",
   "metadata": {},
   "source": [
    "Чем дома современнее, тем их больше"
   ]
  },
  {
   "cell_type": "markdown",
   "id": "0f8ba6a8",
   "metadata": {},
   "source": [
    "## Домашнее задание 2\n",
    "### 2.1 Изучите распределение домов от наличия вида на набережную\n",
    "* Постройте график\n",
    "* Сделайте выводы"
   ]
  },
  {
   "cell_type": "code",
   "execution_count": 5,
   "id": "0a902442",
   "metadata": {},
   "outputs": [
    {
     "data": {
      "text/plain": [
       "0    21450\n",
       "1      163\n",
       "Name: waterfront, dtype: int64"
      ]
     },
     "execution_count": 5,
     "metadata": {},
     "output_type": "execute_result"
    }
   ],
   "source": [
    "data = df['waterfront'].value_counts()\n",
    "data"
   ]
  },
  {
   "cell_type": "code",
   "execution_count": 6,
   "id": "173818ec",
   "metadata": {},
   "outputs": [
    {
     "data": {
      "image/png": "[encoded data removed]",
      "text/plain": [
       "<Figure size 432x288 with 1 Axes>"
      ]
     },
     "metadata": {},
     "output_type": "display_data"
    }
   ],
   "source": [
    "plt.pie(data.values, labels=data.index, autopct='%.1f%%');"
   ]
  },
  {
   "cell_type": "markdown",
   "id": "6c27dfe0",
   "metadata": {},
   "source": [
    "Домов с видом на набережную всего 0,5% от общего количества"
   ]
  },
  {
   "cell_type": "markdown",
   "id": "a4d0c8cb",
   "metadata": {},
   "source": [
    "### 2.2 Изучите распределение этажей домов\n",
    "* Постройте график\n",
    "* Сделайте выводы"
   ]
  },
  {
   "cell_type": "code",
   "execution_count": 7,
   "id": "5aa07e6f",
   "metadata": {},
   "outputs": [
    {
     "data": {
      "text/plain": [
       "1.0    10680\n",
       "2.0     8241\n",
       "1.5     1910\n",
       "3.0      613\n",
       "2.5      161\n",
       "3.5        8\n",
       "Name: floors, dtype: int64"
      ]
     },
     "execution_count": 7,
     "metadata": {},
     "output_type": "execute_result"
    }
   ],
   "source": [
    "data = df['floors'].value_counts()\n",
    "data"
   ]
  },
  {
   "cell_type": "code",
   "execution_count": 8,
   "id": "504425ca",
   "metadata": {},
   "outputs": [
    {
     "data": {
      "image/png": "[encoded data removed]",
      "text/plain": [
       "<Figure size 360x216 with 1 Axes>"
      ]
     },
     "metadata": {
      "needs_background": "light"
     },
     "output_type": "display_data"
    }
   ],
   "source": [
    "plt.figure(figsize=(5, 3))\n",
    "plt.bar(data.index, data.values)\n",
    "plt.xticks(rotation=90);"
   ]
  },
  {
   "cell_type": "markdown",
   "id": "e839a7d2",
   "metadata": {},
   "source": [
    "Одноэтажных и двухэтажных домов больше всего"
   ]
  },
  {
   "cell_type": "markdown",
   "id": "859f07ba",
   "metadata": {},
   "source": [
    "### 2.3 Изучите распределение состояния домов\n",
    "* Постройте график\n",
    "* Сделайте выводы"
   ]
  },
  {
   "cell_type": "code",
   "execution_count": 9,
   "id": "6a9e3d79",
   "metadata": {},
   "outputs": [
    {
     "data": {
      "text/plain": [
       "3    14031\n",
       "4     5679\n",
       "5     1701\n",
       "2      172\n",
       "1       30\n",
       "Name: condition, dtype: int64"
      ]
     },
     "execution_count": 9,
     "metadata": {},
     "output_type": "execute_result"
    }
   ],
   "source": [
    "data = df['condition'].value_counts()\n",
    "data"
   ]
  },
  {
   "cell_type": "code",
   "execution_count": 10,
   "id": "60694635",
   "metadata": {},
   "outputs": [
    {
     "data": {
      "image/png": "[encoded data removed]",
      "text/plain": [
       "<Figure size 360x216 with 1 Axes>"
      ]
     },
     "metadata": {
      "needs_background": "light"
     },
     "output_type": "display_data"
    }
   ],
   "source": [
    "plt.figure(figsize=(5, 3))\n",
    "plt.bar(data.index, data.values)\n",
    "plt.xticks(rotation=90);"
   ]
  },
  {
   "cell_type": "markdown",
   "id": "08e4dae2",
   "metadata": {},
   "source": [
    "Преобладают дома с средним состоянием и выше, которые либо не требуют капитального ремонта, либо прошли его"
   ]
  },
  {
   "cell_type": "markdown",
   "id": "1fd83ff0",
   "metadata": {},
   "source": [
    "## Домашнее задание 3\n",
    "Исследуйте, какие характеристики недвижимости\n",
    "влияют на стоимость недвижимости, с применением\n",
    "не менее 5 диаграмм из урока.\n",
    "Анализ сделайте в формате storytelling: дополнить\n",
    "каждый график письменными выводами и\n",
    "наблюдениями."
   ]
  },
  {
   "cell_type": "markdown",
   "id": "b9bac8e3",
   "metadata": {},
   "source": [
    "1. Посмотрим взаимосвязь стоимости домов от года постройки"
   ]
  },
  {
   "cell_type": "code",
   "execution_count": 11,
   "id": "63a732d5",
   "metadata": {},
   "outputs": [
    {
     "data": {
      "text/plain": [
       "Text(0, 0.5, 'Стоимость домов')"
      ]
     },
     "execution_count": 11,
     "metadata": {},
     "output_type": "execute_result"
    },
    {
     "data": {
      "image/png": "[encoded data removed]",
      "text/plain": [
       "<Figure size 432x288 with 1 Axes>"
      ]
     },
     "metadata": {
      "needs_background": "light"
     },
     "output_type": "display_data"
    }
   ],
   "source": [
    "plt.scatter(df['yr_built'], df['price'])\n",
    "plt.title('Зависимость стоимости от года постройки')\n",
    "plt.xlabel('Год постройки')\n",
    "plt.ylabel('Стоимость домов')"
   ]
  },
  {
   "cell_type": "markdown",
   "id": "6a527fb9",
   "metadata": {},
   "source": [
    "Видим, что нет прямой зависимости стоимости домов от года постройки"
   ]
  },
  {
   "cell_type": "markdown",
   "id": "11dc6bb7",
   "metadata": {},
   "source": [
    "2. Посмотрим зависимость стоимости от количества этажей"
   ]
  },
  {
   "cell_type": "code",
   "execution_count": 12,
   "id": "e02c76fd",
   "metadata": {},
   "outputs": [
    {
     "data": {
      "image/png": "[encoded data removed]",
      "text/plain": [
       "<Figure size 432x288 with 1 Axes>"
      ]
     },
     "metadata": {
      "needs_background": "light"
     },
     "output_type": "display_data"
    }
   ],
   "source": [
    "import seaborn as sns\n",
    "\n",
    "sns.boxplot(x=df['floors'], y=df['price'], showfliers=False)\n",
    "\n",
    "plt.title('Взаимосвязь стоимости домов от этажности')\n",
    "plt.xlabel('Стоимость домов')\n",
    "plt.xlabel('Количество этажей');"
   ]
  },
  {
   "cell_type": "markdown",
   "id": "8befbcc6",
   "metadata": {},
   "source": [
    "Видим, чтосамые дорогие дома имеют 2,5 этажа"
   ]
  },
  {
   "cell_type": "markdown",
   "id": "7ba0c91c",
   "metadata": {},
   "source": [
    "3. Взглянем на зависимость стоимости домов от состояния"
   ]
  },
  {
   "cell_type": "code",
   "execution_count": 13,
   "id": "3ef3a6c7",
   "metadata": {},
   "outputs": [
    {
     "data": {
      "image/png": "[encoded data removed]",
      "text/plain": [
       "<Figure size 432x288 with 1 Axes>"
      ]
     },
     "metadata": {
      "needs_background": "light"
     },
     "output_type": "display_data"
    }
   ],
   "source": [
    "sns.boxplot(x=df['condition'], y=df['price'], showfliers=False)\n",
    "\n",
    "plt.title('Взаимосвязь стоимости домов от их состояния')\n",
    "plt.xlabel('Стоимость домов')\n",
    "plt.xlabel('Состояние');"
   ]
  },
  {
   "cell_type": "markdown",
   "id": "78d86b8b",
   "metadata": {},
   "source": [
    "Видим, что чем состояние дома лучше, тем он дородже, что логично"
   ]
  },
  {
   "cell_type": "markdown",
   "id": "df81af0f",
   "metadata": {},
   "source": [
    "4. Взглянем на зависимость стоимости домов от количества спален"
   ]
  },
  {
   "cell_type": "code",
   "execution_count": 14,
   "id": "9a0f287b",
   "metadata": {},
   "outputs": [
    {
     "data": {
      "image/png": "[encoded data removed]",
      "text/plain": [
       "<Figure size 432x288 with 1 Axes>"
      ]
     },
     "metadata": {
      "needs_background": "light"
     },
     "output_type": "display_data"
    }
   ],
   "source": [
    "sns.boxplot(x=df['bedrooms'], y=df['price'], showfliers=False)\n",
    "\n",
    "plt.title('Взаимосвязь стоимости домов от количества спален')\n",
    "plt.xlabel('Стоимость домов')\n",
    "plt.xlabel('Количество спален');"
   ]
  },
  {
   "cell_type": "markdown",
   "id": "e957a533",
   "metadata": {},
   "source": [
    "Вимим, что самые дорогие дома имеют восемь спален, дешевые дома имеют до трёх спален"
   ]
  },
  {
   "cell_type": "markdown",
   "id": "c63907d9",
   "metadata": {},
   "source": [
    "5. Посмотрим взаимосвязь стоимости домов от ренновации"
   ]
  },
  {
   "cell_type": "code",
   "execution_count": 18,
   "id": "b8876d40",
   "metadata": {},
   "outputs": [
    {
     "data": {
      "text/plain": [
       "Text(0, 0.5, 'Год ренновации')"
      ]
     },
     "execution_count": 18,
     "metadata": {},
     "output_type": "execute_result"
    },
    {
     "data": {
      "image/png": "[encoded data removed]",
      "text/plain": [
       "<Figure size 432x288 with 1 Axes>"
      ]
     },
     "metadata": {
      "needs_background": "light"
     },
     "output_type": "display_data"
    }
   ],
   "source": [
    "plt.scatter(df['price'], df['yr_renovated'])\n",
    "plt.title('Зависимость стоимости от года постройки')\n",
    "plt.xlabel('Стоимость домов');\n",
    "plt.ylabel('Год ренновации')"
   ]
  },
  {
   "cell_type": "markdown",
   "id": "4fc12b79",
   "metadata": {},
   "source": [
    "Видим, что нет прямой зависимости стоимости домов от того, проводилась ренновация или нет"
   ]
  }
 ],
 "metadata": {
  "kernelspec": {
   "display_name": "Python 3 (ipykernel)",
   "language": "python",
   "name": "python3"
  },
  "language_info": {
   "codemirror_mode": {
    "name": "ipython",
    "version": 3
   },
   "file_extension": ".py",
   "mimetype": "text/x-python",
   "name": "python",
   "nbconvert_exporter": "python",
   "pygments_lexer": "ipython3",
   "version": "3.9.7"
  }
 },
 "nbformat": 4,
 "nbformat_minor": 5
}
