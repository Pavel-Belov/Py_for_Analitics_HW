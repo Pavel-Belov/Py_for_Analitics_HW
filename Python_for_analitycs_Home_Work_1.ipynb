{
 "cells": [
  {
   "cell_type": "markdown",
   "id": "4ecfb688",
   "metadata": {},
   "source": [
    "## Домашнее задание 1"
   ]
  },
  {
   "cell_type": "markdown",
   "id": "a0b7921d",
   "metadata": {},
   "source": [
    "Оформляйте ноутбук, используя эти советы:\n",
    "* Номер задачи - заголовок 2\n",
    "* Номер подзадачи - заголовок 3\n",
    "* Предоставленные наборы данных оформляйте, как код"
   ]
  },
  {
   "cell_type": "markdown",
   "id": "3ba67e9b",
   "metadata": {},
   "source": [
    "## Домашнее задание 2"
   ]
  },
  {
   "cell_type": "markdown",
   "id": "1e08fb6a",
   "metadata": {},
   "source": [
    "На складе лежат разные фрукты в разном количестве.\n",
    "\n",
    "Нужно написать функцию, которая на вход принимает любое\n",
    "количество названий фруктов и их количество, а возвращает\n",
    "общее количество фруктов на складе"
   ]
  },
  {
   "cell_type": "code",
   "execution_count": 1,
   "id": "2b478ab6",
   "metadata": {},
   "outputs": [],
   "source": [
    "fruits = {\n",
    "    \"pears\": 10,\n",
    "    \"apples\": 9,\n",
    "    \"bananas\": 16\n",
    "}"
   ]
  },
  {
   "cell_type": "code",
   "execution_count": 2,
   "id": "875bf554",
   "metadata": {},
   "outputs": [
    {
     "data": {
      "text/plain": [
       "35"
      ]
     },
     "execution_count": 2,
     "metadata": {},
     "output_type": "execute_result"
    }
   ],
   "source": [
    "def fruits_count(**kwargs):\n",
    "    return sum(kwargs.values())\n",
    "\n",
    "fruits_count(**fruits)"
   ]
  },
  {
   "cell_type": "markdown",
   "id": "1703b64f",
   "metadata": {},
   "source": [
    "## Домашнее задание 3"
   ]
  },
  {
   "cell_type": "markdown",
   "id": "d0242c9a",
   "metadata": {},
   "source": [
    "Дан список с затратами на рекламу. Но в данных есть ошибки,\n",
    "некоторые затраты имеют отрицательную величину. Удалите\n",
    "такие значения из списка и посчитайте суммарные затраты\n",
    "\n",
    "[100, 125, -90, 345, 655, -1, 0, 200]\n",
    "\n",
    "Используйте list comprehensions"
   ]
  },
  {
   "cell_type": "code",
   "execution_count": 3,
   "id": "a4af7999",
   "metadata": {},
   "outputs": [
    {
     "data": {
      "text/plain": [
       "1425"
      ]
     },
     "execution_count": 3,
     "metadata": {},
     "output_type": "execute_result"
    }
   ],
   "source": [
    "data = [100, 125, -90, 345, 655, -1, 0, 200]\n",
    "sum([i for i in data if i > 0])"
   ]
  },
  {
   "cell_type": "markdown",
   "id": "c0fdbeaa",
   "metadata": {},
   "source": [
    "## Домашнее задание 4"
   ]
  },
  {
   "cell_type": "markdown",
   "id": "6e77c0b7",
   "metadata": {},
   "source": [
    "Даны два списка.\n",
    "\n",
    "Дата покупки\n",
    "['2021-09-14', '2021-12-15', '2021-09-08', '2021-12-05', '2021-10-09', '2021-09-30', '2021-12-22', '2021-11-29', '2021-12-24', '2021-11-26', '2021-10-27', '2021-12-18', '2021-11-09', '2021-11-23', '2021-09-27',\n",
    "'2021-10-02', '2021-12-27', '2021-09-20', '2021-12-13', '2021-11-01', '2021-11-09', '2021-12-06', '2021-12-08', '2021-10-09', '2021-10-31', '2021-09-30', '2021-11-09', '2021-12-13', '2021-10-26', '2021-12-09']\n",
    "\n",
    "Суммы покупок по датам\n",
    "[1270, 8413, 9028, 3703, 5739, 4095, 295, 4944, 5723, 3701, 4471, 651, 7037, 4274, 6275, 4988, 6930, 2971, 6592, 2004, 2822, 519, 3406, 2732, 5015, 2008, 316, 6333, 5700, 2887]"
   ]
  },
  {
   "cell_type": "markdown",
   "id": "5543e2b8",
   "metadata": {},
   "source": [
    "### 4.1 Найдите, какая выручка у компании в ноябре\n",
    "Используйте list comprehensions"
   ]
  },
  {
   "cell_type": "code",
   "execution_count": 19,
   "id": "63971f34",
   "metadata": {},
   "outputs": [],
   "source": [
    "dates =  ['2021-09-14', '2021-12-15', '2021-09-08', '2021-12-05', '2021-10-09',\n",
    "          '2021-09-30', '2021-12-22', '2021-11-29', '2021-12-24', '2021-11-26',\n",
    "          '2021-10-27', '2021-12-18', '2021-11-09', '2021-11-23', '2021-09-27',\n",
    "          '2021-10-02', '2021-12-27', '2021-09-20', '2021-12-13', '2021-11-01',\n",
    "          '2021-11-09', '2021-12-06', '2021-12-08', '2021-10-09', '2021-10-31',\n",
    "          '2021-09-30', '2021-11-09', '2021-12-13', '2021-10-26', '2021-12-09']\n",
    "amounts = [1270, 8413, 9028, 3703, 5739, 4095, 295, 4944, 5723, 3701, 4471, 651, 7037, 4274, 6275, \n",
    "           4988, 6930, 2971, 6592, 2004, 2822, 519, 3406, 2732, 5015, 2008, 316, 6333, 5700, 2887]"
   ]
  },
  {
   "cell_type": "code",
   "execution_count": 5,
   "id": "d223cfa2",
   "metadata": {},
   "outputs": [
    {
     "data": {
      "text/plain": [
       "25098"
      ]
     },
     "execution_count": 5,
     "metadata": {},
     "output_type": "execute_result"
    }
   ],
   "source": [
    "sum([amounts[i] for i in range(len(dates)) if dates[i].split(\"-\")[1] == \"11\"])"
   ]
  },
  {
   "cell_type": "markdown",
   "id": "a565bf2a",
   "metadata": {},
   "source": [
    "### 4.2 Найдите выручку компании в зависимости от месяца\n",
    "Для этого напишите функцию, которая на вход принимает список с датами и список с выручкой, а на выходе словарь, где\n",
    "ключи - это месяцы, а значения - это выручка.\n",
    "\n",
    "Используйте аннотирование типов."
   ]
  },
  {
   "cell_type": "code",
   "execution_count": 23,
   "id": "1fcd34b7",
   "metadata": {},
   "outputs": [
    {
     "data": {
      "text/plain": [
       "{'Сентябрь': 25647, 'Октябрь': 28645, 'Ноябрь': 25098, 'Декабрь': 45452}"
      ]
     },
     "execution_count": 23,
     "metadata": {},
     "output_type": "execute_result"
    }
   ],
   "source": [
    "def revenue(dates: list, amounts: list) -> dict:\n",
    "    month = {\n",
    "        \"09\": \"Сентябрь\",\n",
    "        \"10\": \"Октябрь\",\n",
    "        \"11\": \"Ноябрь\",\n",
    "        \"12\": \"Декабрь\"\n",
    "    }\n",
    "    dates = list(map(lambda dat: month[dat.split(\"-\")[1]], dates))\n",
    "    result = {}\n",
    "    for i in range(len(dates)):\n",
    "        result.setdefault(dates[i], 0)\n",
    "        result[dates[i]] += amounts[i]\n",
    "    return {k: result[k] for k in sorted(result, key=lambda m: list(month.values()).index(m))}\n",
    "\n",
    "revenue(dates, amounts)"
   ]
  }
 ],
 "metadata": {
  "kernelspec": {
   "display_name": "Python 3 (ipykernel)",
   "language": "python",
   "name": "python3"
  },
  "language_info": {
   "codemirror_mode": {
    "name": "ipython",
    "version": 3
   },
   "file_extension": ".py",
   "mimetype": "text/x-python",
   "name": "python",
   "nbconvert_exporter": "python",
   "pygments_lexer": "ipython3",
   "version": "3.9.7"
  }
 },
 "nbformat": 4,
 "nbformat_minor": 5
}
